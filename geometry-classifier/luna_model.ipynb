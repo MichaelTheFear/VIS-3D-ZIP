{
 "cells": [
  {
   "cell_type": "code",
   "execution_count": null,
   "metadata": {},
   "outputs": [],
   "source": [
    "!nvidia-smi"
   ]
  },
  {
   "cell_type": "code",
   "execution_count": null,
   "metadata": {},
   "outputs": [],
   "source": [
    "#%pip install --extra-index-url=https://pypi.nvidia.com cudf-cu12\n",
    "#%pip install cucim-cu12 cupy-cuda12x"
   ]
  },
  {
   "cell_type": "code",
   "execution_count": null,
   "metadata": {},
   "outputs": [],
   "source": [
    "#%load_ext cudf.pandas\n",
    "\n",
    "#from cucim.skimage.exposure import rescale_intensity\n",
    "import tensorflow as tf\n",
    "#import cupy as cp\n",
    "import torch\n",
    "import pandas as pd\n",
    "import matplotlib.pyplot as plt\n",
    "import numpy as np\n",
    "import re\n",
    "import seaborn as sns\n",
    "import glob\n",
    "from sklearn.model_selection import train_test_split\n",
    "\n",
    "print(\"Is torch using cuda? \",torch.cuda.is_available())\n",
    "print(\"Is tensorflow using cuda? \",tf.test.is_built_with_cuda())\n",
    "print(\"Is pandas using cuda? \",pd)\n"
   ]
  },
  {
   "cell_type": "code",
   "execution_count": null,
   "metadata": {},
   "outputs": [],
   "source": [
    "name_mapping = [\n",
    "    \"box\",\n",
    "    \"circularTorus\",\n",
    "    \"cone\",\n",
    "    \"coneOffset\",\n",
    "    \"cylinder\",\n",
    "    \"cylinderSlope\",\n",
    "    \"dish\",\n",
    "    \"mesh\",\n",
    "    \"pyramid\",\n",
    "    \"rectangularTorus\",\n",
    "    \"sphere\"\n",
    "]"
   ]
  },
  {
   "cell_type": "code",
   "execution_count": null,
   "metadata": {},
   "outputs": [],
   "source": [
    "def sort_by_number(texts:list[str]):\n",
    "    def key(text:str):\n",
    "        text = re.sub(r'.*photos_', '', text)\n",
    "        text = re.sub(r'\\.csv', '', text)\n",
    "        text = re.sub(r'\\D', '', text)\n",
    "        return int(text)\n",
    "    return sorted(texts, key=key)"
   ]
  },
  {
   "cell_type": "code",
   "execution_count": null,
   "metadata": {},
   "outputs": [],
   "source": [
    "base_path = '/home/workspace/geometry-classifier/data/'\n",
    "\n",
    "csv_files = sort_by_number(glob.glob(base_path+'photos_v3/*.csv'))\n",
    "\n",
    "batch_size = 256\n",
    "\n",
    "def load_and_preprocess_data(file_path, batch_size=32):\n",
    "    # Load your dataset\n",
    "    df = pd.read_csv(file_path)\n",
    "    X = df.drop(['name', 'id'], axis=1)\n",
    "    Y = df['name']\n",
    "    \n",
    "    # Convert to TensorFlow Dataset\n",
    "    dataset = tf.data.Dataset.from_tensor_slices()\n",
    "    dataset = dataset.batch(batch_size)\n",
    "\n",
    "    return dataset\n"
   ]
  },
  {
   "cell_type": "code",
   "execution_count": null,
   "metadata": {},
   "outputs": [],
   "source": [
    "csv_files"
   ]
  }
 ],
 "metadata": {
  "kernelspec": {
   "display_name": "Python 3 (ipykernel)",
   "language": "python",
   "name": "python3"
  },
  "language_info": {
   "codemirror_mode": {
    "name": "ipython",
    "version": 3
   },
   "file_extension": ".py",
   "mimetype": "text/x-python",
   "name": "python",
   "nbconvert_exporter": "python",
   "pygments_lexer": "ipython3",
   "version": "3.11.0rc1"
  }
 },
 "nbformat": 4,
 "nbformat_minor": 2
}
