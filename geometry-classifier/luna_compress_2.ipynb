{
 "cells": [
  {
   "cell_type": "code",
   "execution_count": null,
   "metadata": {},
   "outputs": [],
   "source": [
    "!nvidia-smi"
   ]
  },
  {
   "cell_type": "code",
   "execution_count": null,
   "metadata": {},
   "outputs": [],
   "source": [
    "#%pip install --extra-index-url=https://pypi.nvidia.com cudf-cu12\n",
    "#%pip install cucim-cu12 cupy-cuda12x"
   ]
  },
  {
   "cell_type": "code",
   "execution_count": 2,
   "metadata": {},
   "outputs": [],
   "source": [
    "\n",
    "import pandas as pd\n",
    "import tensorflow as tf\n",
    "\n",
    "import glob\n",
    "import re"
   ]
  },
  {
   "cell_type": "code",
   "execution_count": null,
   "metadata": {},
   "outputs": [],
   "source": [
    "%pip install fastparquet"
   ]
  },
  {
   "cell_type": "code",
   "execution_count": 3,
   "metadata": {},
   "outputs": [],
   "source": [
    "base_path = '/home/workspace/geometry-classifier/data/'\n",
    "\n"
   ]
  },
  {
   "cell_type": "code",
   "execution_count": 14,
   "metadata": {},
   "outputs": [
    {
     "name": "stdout",
     "output_type": "stream",
     "text": [
      "16M\t/home/workspace/geometry-classifier/data/tfrecord\n"
     ]
    }
   ],
   "source": [
    "!du -h /home/workspace/geometry-classifier/data/tfrecord"
   ]
  },
  {
   "cell_type": "code",
   "execution_count": 12,
   "metadata": {},
   "outputs": [
    {
     "name": "stdout",
     "output_type": "stream",
     "text": [
      "(1024, 50177)\n",
      "Converted /home/workspace/geometry-classifier/data/photos_v3_parquet/photos_649.parquet to /home/workspace/geometry-classifier/data/tfrecord/data1.tfrecord.gz\n",
      "(1024, 50177)\n",
      "Converted /home/workspace/geometry-classifier/data/photos_v3_parquet/photos_432.parquet to /home/workspace/geometry-classifier/data/tfrecord/data2.tfrecord.gz\n",
      "(1024, 50177)\n",
      "Converted /home/workspace/geometry-classifier/data/photos_v3_parquet/photos_82.parquet to /home/workspace/geometry-classifier/data/tfrecord/data3.tfrecord.gz\n",
      "(1024, 50177)\n",
      "Converted /home/workspace/geometry-classifier/data/photos_v3_parquet/photos_592.parquet to /home/workspace/geometry-classifier/data/tfrecord/data4.tfrecord.gz\n",
      "(1024, 50177)\n",
      "Converted /home/workspace/geometry-classifier/data/photos_v3_parquet/photos_838.parquet to /home/workspace/geometry-classifier/data/tfrecord/data5.tfrecord.gz\n",
      "(1024, 50177)\n",
      "Converted /home/workspace/geometry-classifier/data/photos_v3_parquet/photos_272.parquet to /home/workspace/geometry-classifier/data/tfrecord/data6.tfrecord.gz\n",
      "(1024, 50177)\n",
      "Converted /home/workspace/geometry-classifier/data/photos_v3_parquet/photos_439.parquet to /home/workspace/geometry-classifier/data/tfrecord/data7.tfrecord.gz\n",
      "(1024, 50177)\n",
      "Converted /home/workspace/geometry-classifier/data/photos_v3_parquet/photos_797.parquet to /home/workspace/geometry-classifier/data/tfrecord/data8.tfrecord.gz\n",
      "(1024, 50177)\n",
      "Converted /home/workspace/geometry-classifier/data/photos_v3_parquet/photos_667.parquet to /home/workspace/geometry-classifier/data/tfrecord/data9.tfrecord.gz\n",
      "(1024, 50177)\n",
      "Converted /home/workspace/geometry-classifier/data/photos_v3_parquet/photos_108.parquet to /home/workspace/geometry-classifier/data/tfrecord/data10.tfrecord.gz\n"
     ]
    }
   ],
   "source": [
    "import pandas as pd\n",
    "import tensorflow as tf\n",
    "import glob\n",
    "import os\n",
    "\n",
    "def serialize_example(name, image_data):\n",
    "    \"\"\"Serialize data into TFRecord format.\"\"\"\n",
    "    feature = {\n",
    "        'name': tf.train.Feature(bytes_list=tf.train.BytesList(value=[name])),\n",
    "        'image': tf.train.Feature(bytes_list=tf.train.BytesList(value=[image_data]))\n",
    "    }\n",
    "    example_proto = tf.train.Example(features=tf.train.Features(feature=feature))\n",
    "    return example_proto.SerializeToString()\n",
    "\n",
    "def parquet_to_tfrecord(parquet_file, tfrecord_file):\n",
    "    \"\"\"Convert a single Parquet file to a TFRecord file.\"\"\"\n",
    "    df = pd.read_parquet(parquet_file).drop(columns=[\"id\"])\n",
    "    print(df.shape)\n",
    "    \n",
    "    with tf.io.TFRecordWriter(tfrecord_file, options='GZIP') as writer:\n",
    "        for _, row in df.iterrows():\n",
    "            name = row['name'].astype('uint8').tobytes()  # Convert uint8 name to bytes\n",
    "            image_data = row.drop('name').to_numpy().astype('uint8').tobytes()  # Flatten image data and convert to bytes\n",
    "            example = serialize_example(name, image_data)\n",
    "            writer.write(example)\n",
    "\n",
    "# Directory with parquet files\n",
    "parquet_dir = base_path+\"photos_v3_parquet\"\n",
    "\n",
    "parquet_files = glob.glob(os.path.join(parquet_dir, \"*.parquet\"))\n",
    "\n",
    "i = 0\n",
    "for parquet_file in parquet_files:\n",
    "    if i == 10: break\n",
    "    i+=1\n",
    "    tfrecord_file = f\"{base_path}tfrecord/data{i}.tfrecord.gz\"\n",
    "    parquet_to_tfrecord(parquet_file, tfrecord_file)\n",
    "    print(f\"Converted {parquet_file} to {tfrecord_file}\")\n"
   ]
  },
  {
   "cell_type": "code",
   "execution_count": null,
   "metadata": {},
   "outputs": [],
   "source": []
  }
 ],
 "metadata": {
  "kernelspec": {
   "display_name": "Python 3 (ipykernel)",
   "language": "python",
   "name": "python3"
  },
  "language_info": {
   "codemirror_mode": {
    "name": "ipython",
    "version": 3
   },
   "file_extension": ".py",
   "mimetype": "text/x-python",
   "name": "python",
   "nbconvert_exporter": "python",
   "pygments_lexer": "ipython3",
   "version": "3.11.0rc1"
  }
 },
 "nbformat": 4,
 "nbformat_minor": 2
}
