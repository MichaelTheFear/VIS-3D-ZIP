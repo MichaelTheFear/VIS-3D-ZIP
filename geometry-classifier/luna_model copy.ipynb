{
 "cells": [
  {
   "cell_type": "code",
   "execution_count": null,
   "metadata": {},
   "outputs": [],
   "source": [
    "!nvidia-smi"
   ]
  },
  {
   "cell_type": "code",
   "execution_count": null,
   "metadata": {},
   "outputs": [],
   "source": [
    "#%pip install --extra-index-url=https://pypi.nvidia.com cudf-cu12\n",
    "#%pip install cucim-cu12 cupy-cuda12x"
   ]
  },
  {
   "cell_type": "code",
   "execution_count": null,
   "metadata": {},
   "outputs": [],
   "source": [
    "%pip install fastparquet"
   ]
  },
  {
   "cell_type": "code",
   "execution_count": null,
   "metadata": {},
   "outputs": [],
   "source": [
    "#%load_ext cudf.pandas\n",
    "\n",
    "# To desable GPU usage\n",
    "#import os\n",
    "#os.environ[\"CUDA_VISIBLE_DEVICES\"] = \"-1\"\n",
    "\n",
    "#from cucim.skimage.exposure import rescale_intensity\n",
    "import tensorflow as tf\n",
    "#import cupy as cp\n",
    "#import torch\n",
    "import pandas as pd\n",
    "import matplotlib.pyplot as plt\n",
    "import numpy as np\n",
    "import re\n",
    "import seaborn as sns\n",
    "import glob\n",
    "from sklearn.model_selection import train_test_split\n",
    "import gc\n",
    "\n",
    "gpus = tf.config.list_physical_devices('GPU')\n",
    "if gpus:\n",
    "    try:\n",
    "        # memory limit 16GB (16 * 1024 MB = 16384 MB) \n",
    "        tf.config.experimental.set_virtual_device_configuration(\n",
    "            gpus[0],\n",
    "            [tf.config.experimental.VirtualDeviceConfiguration(memory_limit=16384)] \n",
    "        )\n",
    "        print(\"Set GPU memory limit to 16GB.\")\n",
    "    except RuntimeError as e:\n",
    "        print(\"Error setting memory limit:\", e)\n",
    "else:\n",
    "    print(\"No GPUs available.\")\n",
    "\n",
    "#print(\"Is torch using cuda? \",torch.cuda.is_available())\n",
    "print(\"Is tensorflow using cuda? \",tf.test.is_built_with_cuda())\n",
    "print(\"Is pandas using cuda? \",pd)\n"
   ]
  },
  {
   "cell_type": "code",
   "execution_count": null,
   "metadata": {},
   "outputs": [],
   "source": [
    "name_mapping = [\n",
    "    \"box\",\n",
    "    \"circularTorus\",\n",
    "    \"cone\",\n",
    "    \"coneOffset\",\n",
    "    \"cylinder\",\n",
    "    \"cylinderSlope\",\n",
    "    \"dish\",\n",
    "    \"mesh\",\n",
    "    \"pyramid\",\n",
    "    \"rectangularTorus\",\n",
    "    \"sphere\"\n",
    "]"
   ]
  },
  {
   "cell_type": "code",
   "execution_count": null,
   "metadata": {},
   "outputs": [],
   "source": [
    "def sort_by_number(texts:list[str]):\n",
    "    def key(text:str):\n",
    "        text = re.sub(r'.*photos_', '', text)\n",
    "        text = re.sub(r'\\.csv', '', text)\n",
    "        text = re.sub(r'\\D', '', text)\n",
    "        return int(text)\n",
    "    return sorted(texts, key=key)"
   ]
  },
  {
   "cell_type": "code",
   "execution_count": null,
   "metadata": {},
   "outputs": [],
   "source": [
    "!ls /home/workspace"
   ]
  },
  {
   "cell_type": "code",
   "execution_count": null,
   "metadata": {},
   "outputs": [],
   "source": [
    "num_classes = 11\n",
    "def filter_invalid_labels(image, label):\n",
    "    # Exclude labels that are less than 0 or greater than the maximum allowed class\n",
    "    valid_labels = tf.reduce_all(label >= 0) & tf.reduce_all(label < num_classes)\n",
    "    return valid_labels"
   ]
  },
  {
   "cell_type": "code",
   "execution_count": null,
   "metadata": {},
   "outputs": [],
   "source": [
    "base_path = '/home/workspace/geometry-classifier/data/'\n",
    "\n",
    "def parse_tfrecord(example_proto):\n",
    "    \"\"\"Parse a single TFRecord example.\"\"\"\n",
    "    feature_description = {\n",
    "        'name': tf.io.FixedLenFeature([], tf.string),\n",
    "        'image': tf.io.FixedLenFeature([], tf.string)\n",
    "    }\n",
    "    parsed_example = tf.io.parse_single_example(example_proto, feature_description)\n",
    "    name = tf.io.decode_raw(parsed_example['name'], tf.float32)\n",
    "    image = tf.io.decode_raw(parsed_example['image'], tf.float32)\n",
    "    image = tf.reshape(image, (224, 224, 1))  # Reshape image data to 224x224x3\n",
    "    class_label = tf.cast(name[0], tf.int32)  # Use the first byte as a class label\n",
    "    return image, class_label\n",
    "\n",
    "def load_tfrecord(tfrecord_files):\n",
    "    \"\"\"Load TFRecords and prepare a dataset.\"\"\"\n",
    "    raw_dataset = tf.data.TFRecordDataset(tfrecord_files, compression_type=\"GZIP\")\n",
    "    parsed_dataset = raw_dataset.map(parse_tfrecord)\n",
    "    return parsed_dataset\n",
    "\n",
    "# Directory with TFRecords\n",
    "\n",
    "files_for = lambda file_type: glob.glob(f\"{base_path}/tfrecord/{file_type}*.tfrecord.gz\")\n",
    "\n",
    "test_files = files_for(\"test\")\n",
    "validation_files = files_for(\"val\")\n",
    "train_files = files_for(\"train\")\n",
    "\n",
    "print(glob.glob(f\"{base_path}tfrecord/*.tfrecord.gz\")[0])\n",
    "\n",
    "test = load_tfrecord(test_files).filter(filter_invalid_labels)\n",
    "test = test.batch(32).prefetch(tf.data.AUTOTUNE)\n",
    "\n",
    "validation = load_tfrecord(validation_files).filter(filter_invalid_labels)\n",
    "validation = validation.batch(32).prefetch(tf.data.AUTOTUNE)\n",
    "\n",
    "train = load_tfrecord(train_files).filter(filter_invalid_labels)\n",
    "train = train.batch(32).prefetch(tf.data.AUTOTUNE)\n",
    "\n"
   ]
  },
  {
   "cell_type": "code",
   "execution_count": null,
   "metadata": {},
   "outputs": [],
   "source": [
    "# 224 x 224\n",
    "\n",
    "from tensorflow.keras import layers, models\n",
    "from tensorflow.keras.callbacks import ModelCheckpoint, EarlyStopping\n",
    "from tensorflow.keras.optimizers import Adam\n",
    "\n",
    "model = models.Sequential([\n",
    "    layers.Conv2D(8, (3, 3), activation='relu', input_shape=(224,224,1)),\n",
    "    layers.MaxPooling2D((2, 2)),\n",
    "    \n",
    "\n",
    "    layers.Conv2D(16, (3, 3), activation='relu'),\n",
    "    layers.MaxPooling2D((2, 2)),\n",
    "    \n",
    "\n",
    "    layers.Conv2D(32, (3, 3), activation='relu'),\n",
    "    layers.MaxPooling2D((2, 2)),\n",
    "    \n",
    "\n",
    "    layers.Flatten(),\n",
    "    \n",
    "    layers.Dense(32, activation='relu'),\n",
    "    layers.Dropout(0.2),\n",
    "    layers.Dense(11, activation='softmax') \n",
    "])\n",
    "\n",
    "model.compile(optimizer=Adam(learning_rate=1e-4, clipnorm=1.0),\n",
    "              loss='sparse_categorical_crossentropy',\n",
    "              metrics=['accuracy'])\n"
   ]
  },
  {
   "cell_type": "code",
   "execution_count": null,
   "metadata": {},
   "outputs": [],
   "source": [
    "checkpoint_callback = ModelCheckpoint(base_path+'model.keras',save_best_only=True, save_weights_only=False, mode='min', verbose=1)\n",
    "early_stopping = EarlyStopping(\n",
    "    monitor=\"val_loss\",       # Monitor validation loss\n",
    "    patience=5,               # Wait for 5 epochs without improvement\n",
    "    restore_best_weights=True,  # Restore the best model weights\n",
    "    verbose=1\n",
    ")\n",
    "\n",
    "epochs = 100\n",
    "steps_in_total = (1024 * 812 * 60)//100"
   ]
  },
  {
   "cell_type": "code",
   "execution_count": 23,
   "metadata": {},
   "outputs": [
    {
     "name": "stdout",
     "output_type": "stream",
     "text": [
      "\u001b[1m15605/15607\u001b[0m \u001b[32m━━━━━━━━━━━━━━━━━━━\u001b[0m\u001b[37m━\u001b[0m \u001b[1m0s\u001b[0m 30ms/step - accuracy: 0.9988 - loss: 0.0037"
     ]
    },
    {
     "name": "stderr",
     "output_type": "stream",
     "text": [
      "2024-11-17 18:33:29.780645: I tensorflow/core/framework/local_rendezvous.cc:423] Local rendezvous recv item cancelled. Key hash: 7522895770734502708\n",
      "2024-11-17 18:33:29.780733: I tensorflow/core/framework/local_rendezvous.cc:423] Local rendezvous recv item cancelled. Key hash: 7582625166009220788\n"
     ]
    },
    {
     "name": "stdout",
     "output_type": "stream",
     "text": [
      "\n",
      "Epoch 17: val_loss did not improve from 0.01428\n",
      "\u001b[1m15607/15607\u001b[0m \u001b[32m━━━━━━━━━━━━━━━━━━━━\u001b[0m\u001b[37m\u001b[0m \u001b[1m607s\u001b[0m 39ms/step - accuracy: 0.9988 - loss: 0.0037 - val_accuracy: 0.9986 - val_loss: 0.0151\n",
      "Epoch 17: early stopping\n",
      "Restoring model weights from the end of the best epoch: 12.\n"
     ]
    },
    {
     "name": "stderr",
     "output_type": "stream",
     "text": [
      "2024-11-17 18:35:49.565226: I tensorflow/core/framework/local_rendezvous.cc:423] Local rendezvous recv item cancelled. Key hash: 7522895770734502708\n",
      "2024-11-17 18:35:49.565346: I tensorflow/core/framework/local_rendezvous.cc:423] Local rendezvous recv item cancelled. Key hash: 7582625166009220788\n"
     ]
    }
   ],
   "source": [
    "\n",
    "cnn = model.fit(train, epochs=epochs,callbacks=[\n",
    "    early_stopping,\n",
    "    checkpoint_callback\n",
    "], validation_data=validation)"
   ]
  },
  {
   "cell_type": "code",
   "execution_count": 24,
   "metadata": {},
   "outputs": [
    {
     "name": "stdout",
     "output_type": "stream",
     "text": [
      "\u001b[1m5184/5184\u001b[0m \u001b[32m━━━━━━━━━━━━━━━━━━━━\u001b[0m\u001b[37m\u001b[0m \u001b[1m142s\u001b[0m 27ms/step - accuracy: 0.9991 - loss: 0.0049\n"
     ]
    },
    {
     "name": "stderr",
     "output_type": "stream",
     "text": [
      "2024-11-17 20:48:30.062421: I tensorflow/core/framework/local_rendezvous.cc:423] Local rendezvous recv item cancelled. Key hash: 7522895770734502708\n",
      "2024-11-17 20:48:30.062534: I tensorflow/core/framework/local_rendezvous.cc:423] Local rendezvous recv item cancelled. Key hash: 7582625166009220788\n"
     ]
    },
    {
     "data": {
      "text/plain": [
       "(0.015483572147786617, 0.9984809160232544)"
      ]
     },
     "execution_count": 24,
     "metadata": {},
     "output_type": "execute_result"
    }
   ],
   "source": [
    "test_loss, test_accuracy = model.evaluate(test)\n",
    "test_loss, test_accuracy"
   ]
  },
  {
   "cell_type": "code",
   "execution_count": null,
   "metadata": {},
   "outputs": [],
   "source": [
    "batch_number = 0\n",
    "for image, label in train:\n",
    "    batch_number += 1\n",
    "    if 3300 <= batch_number <= 3700:  # Focus on the problematic range\n",
    "        print(f\"Batch {batch_number}:\")\n",
    "        print(\"Image shape:\", image.numpy().shape)\n",
    "        print(\"Label:\", label.numpy())\n",
    "        print(\"Any NaN in image:\", tf.reduce_any(tf.math.is_nan(image)).numpy())\n",
    "    if batch_number > 3700:  # Stop after the range\n",
    "        break"
   ]
  }
 ],
 "metadata": {
  "kernelspec": {
   "display_name": "Python 3 (ipykernel)",
   "language": "python",
   "name": "python3"
  },
  "language_info": {
   "codemirror_mode": {
    "name": "ipython",
    "version": 3
   },
   "file_extension": ".py",
   "mimetype": "text/x-python",
   "name": "python",
   "nbconvert_exporter": "python",
   "pygments_lexer": "ipython3",
   "version": "3.11.0rc1"
  }
 },
 "nbformat": 4,
 "nbformat_minor": 2
}
